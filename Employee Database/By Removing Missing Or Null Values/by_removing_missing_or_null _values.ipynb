{
 "cells": [
  {
   "cell_type": "code",
   "execution_count": 1,
   "id": "bb56760b-010e-4d8c-9222-ab1cf7397c32",
   "metadata": {},
   "outputs": [],
   "source": [
    "import pandas as pd"
   ]
  },
  {
   "cell_type": "code",
   "execution_count": 2,
   "id": "4157b283-b823-4cb0-a70f-97382a389b03",
   "metadata": {},
   "outputs": [],
   "source": [
    "df = pd.read_csv(\"Employee.csv\")"
   ]
  },
  {
   "cell_type": "code",
   "execution_count": 3,
   "id": "99ce5b21-d2c3-41fe-94df-8ed83ba13c86",
   "metadata": {},
   "outputs": [
    {
     "name": "stdout",
     "output_type": "stream",
     "text": [
      "<class 'pandas.core.frame.DataFrame'>\n",
      "RangeIndex: 7000 entries, 0 to 6999\n",
      "Data columns (total 24 columns):\n",
      " #   Column                     Non-Null Count  Dtype  \n",
      "---  ------                     --------------  -----  \n",
      " 0   Employee_ID                7000 non-null   object \n",
      " 1   Gender                     7000 non-null   object \n",
      " 2   Age                        6588 non-null   float64\n",
      " 3   Education_Level            7000 non-null   int64  \n",
      " 4   Relationship_Status        7000 non-null   object \n",
      " 5   Hometown                   7000 non-null   object \n",
      " 6   Unit                       7000 non-null   object \n",
      " 7   Decision_skill_possess     7000 non-null   object \n",
      " 8   Time_of_service            6856 non-null   float64\n",
      " 9   Time_since_promotion       7000 non-null   int64  \n",
      " 10  growth_rate                7000 non-null   int64  \n",
      " 11  Travel_Rate                7000 non-null   int64  \n",
      " 12  Post_Level                 7000 non-null   int64  \n",
      " 13  Pay_Scale                  6991 non-null   float64\n",
      " 14  Compensation_and_Benefits  7000 non-null   object \n",
      " 15  Work_Life_balance          6989 non-null   float64\n",
      " 16  VAR1                       7000 non-null   int64  \n",
      " 17  VAR2                       6423 non-null   float64\n",
      " 18  VAR3                       7000 non-null   float64\n",
      " 19  VAR4                       6344 non-null   float64\n",
      " 20  VAR5                       7000 non-null   int64  \n",
      " 21  VAR6                       7000 non-null   int64  \n",
      " 22  VAR7                       7000 non-null   int64  \n",
      " 23  Attrition_rate             7000 non-null   float64\n",
      "dtypes: float64(8), int64(9), object(7)\n",
      "memory usage: 1.3+ MB\n"
     ]
    }
   ],
   "source": [
    "df.info()"
   ]
  },
  {
   "cell_type": "code",
   "execution_count": 4,
   "id": "33a3d797-b0d9-4f41-9f49-0dd3b06954dc",
   "metadata": {},
   "outputs": [],
   "source": [
    "clean_df = df.dropna(subset=[\"Age\", \"Time_of_service\", \"Pay_Scale\", \"Work_Life_balance\", \"VAR2\", \"VAR4\"])"
   ]
  },
  {
   "cell_type": "code",
   "execution_count": 5,
   "id": "858beb41-ccd7-4199-8f83-1fc408ef3bec",
   "metadata": {},
   "outputs": [
    {
     "name": "stdout",
     "output_type": "stream",
     "text": [
      "<class 'pandas.core.frame.DataFrame'>\n",
      "Index: 5353 entries, 0 to 6999\n",
      "Data columns (total 24 columns):\n",
      " #   Column                     Non-Null Count  Dtype  \n",
      "---  ------                     --------------  -----  \n",
      " 0   Employee_ID                5353 non-null   object \n",
      " 1   Gender                     5353 non-null   object \n",
      " 2   Age                        5353 non-null   float64\n",
      " 3   Education_Level            5353 non-null   int64  \n",
      " 4   Relationship_Status        5353 non-null   object \n",
      " 5   Hometown                   5353 non-null   object \n",
      " 6   Unit                       5353 non-null   object \n",
      " 7   Decision_skill_possess     5353 non-null   object \n",
      " 8   Time_of_service            5353 non-null   float64\n",
      " 9   Time_since_promotion       5353 non-null   int64  \n",
      " 10  growth_rate                5353 non-null   int64  \n",
      " 11  Travel_Rate                5353 non-null   int64  \n",
      " 12  Post_Level                 5353 non-null   int64  \n",
      " 13  Pay_Scale                  5353 non-null   float64\n",
      " 14  Compensation_and_Benefits  5353 non-null   object \n",
      " 15  Work_Life_balance          5353 non-null   float64\n",
      " 16  VAR1                       5353 non-null   int64  \n",
      " 17  VAR2                       5353 non-null   float64\n",
      " 18  VAR3                       5353 non-null   float64\n",
      " 19  VAR4                       5353 non-null   float64\n",
      " 20  VAR5                       5353 non-null   int64  \n",
      " 21  VAR6                       5353 non-null   int64  \n",
      " 22  VAR7                       5353 non-null   int64  \n",
      " 23  Attrition_rate             5353 non-null   float64\n",
      "dtypes: float64(8), int64(9), object(7)\n",
      "memory usage: 1.0+ MB\n"
     ]
    }
   ],
   "source": [
    "clean_df.info()"
   ]
  },
  {
   "cell_type": "code",
   "execution_count": 6,
   "id": "a32cb40e-d1cb-4320-ac6a-a20df3ecef75",
   "metadata": {},
   "outputs": [
    {
     "name": "stdout",
     "output_type": "stream",
     "text": [
      "File saved successfully\n"
     ]
    }
   ],
   "source": [
    "clean_df.to_csv(\"employee_data_clean.csv\",index=False)\n",
    "print(\"File saved successfully\")"
   ]
  },
  {
   "cell_type": "code",
   "execution_count": null,
   "id": "1dc1bd06-e4dc-4790-b893-41149af15744",
   "metadata": {},
   "outputs": [],
   "source": []
  }
 ],
 "metadata": {
  "kernelspec": {
   "display_name": "Python 3 (ipykernel)",
   "language": "python",
   "name": "python3"
  },
  "language_info": {
   "codemirror_mode": {
    "name": "ipython",
    "version": 3
   },
   "file_extension": ".py",
   "mimetype": "text/x-python",
   "name": "python",
   "nbconvert_exporter": "python",
   "pygments_lexer": "ipython3",
   "version": "3.11.7"
  }
 },
 "nbformat": 4,
 "nbformat_minor": 5
}
